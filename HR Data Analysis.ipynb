{
 "cells": [
  {
   "cell_type": "code",
   "execution_count": 165,
   "id": "0135db66",
   "metadata": {},
   "outputs": [],
   "source": [
    "import pandas as pd"
   ]
  },
  {
   "cell_type": "code",
   "execution_count": 166,
   "id": "d0631688",
   "metadata": {},
   "outputs": [],
   "source": [
    "staff_df = pd.read_excel(\"StaffList-20-02-2023.xlsx\",index_col = False)"
   ]
  },
  {
   "cell_type": "code",
   "execution_count": 167,
   "id": "10d4b9b6",
   "metadata": {},
   "outputs": [
    {
     "data": {
      "text/html": [
       "<div>\n",
       "<style scoped>\n",
       "    .dataframe tbody tr th:only-of-type {\n",
       "        vertical-align: middle;\n",
       "    }\n",
       "\n",
       "    .dataframe tbody tr th {\n",
       "        vertical-align: top;\n",
       "    }\n",
       "\n",
       "    .dataframe thead th {\n",
       "        text-align: right;\n",
       "    }\n",
       "</style>\n",
       "<table border=\"1\" class=\"dataframe\">\n",
       "  <thead>\n",
       "    <tr style=\"text-align: right;\">\n",
       "      <th></th>\n",
       "      <th>EMP_No</th>\n",
       "      <th>Employee_Name</th>\n",
       "      <th>Designation</th>\n",
       "      <th>Dpt</th>\n",
       "      <th>Joined_Date</th>\n",
       "      <th>Date_of_Birth</th>\n",
       "      <th>Date_Resigned</th>\n",
       "      <th>Reason_for_leaving</th>\n",
       "      <th>Active_Resigned</th>\n",
       "    </tr>\n",
       "  </thead>\n",
       "  <tbody>\n",
       "    <tr>\n",
       "      <th>0</th>\n",
       "      <td>8002</td>\n",
       "      <td>J. Kariyawasam</td>\n",
       "      <td>Chief Executive Officer</td>\n",
       "      <td>CEOs Dept.</td>\n",
       "      <td>2009-10-01</td>\n",
       "      <td>1969-07-04</td>\n",
       "      <td>NaT</td>\n",
       "      <td>NaN</td>\n",
       "      <td>Active</td>\n",
       "    </tr>\n",
       "    <tr>\n",
       "      <th>1</th>\n",
       "      <td>8004</td>\n",
       "      <td>D.M.H.D. Dissanayaka</td>\n",
       "      <td>Head of Motor Claims</td>\n",
       "      <td>Motor Claims Dpt.</td>\n",
       "      <td>2009-10-01</td>\n",
       "      <td>1982-06-24</td>\n",
       "      <td>NaT</td>\n",
       "      <td>NaN</td>\n",
       "      <td>Active</td>\n",
       "    </tr>\n",
       "    <tr>\n",
       "      <th>2</th>\n",
       "      <td>8009</td>\n",
       "      <td>S.M. Digamadulla</td>\n",
       "      <td>Manager Contact Center and Customer Relationship</td>\n",
       "      <td>Contact Centre</td>\n",
       "      <td>2009-12-02</td>\n",
       "      <td>1984-03-16</td>\n",
       "      <td>NaT</td>\n",
       "      <td>NaN</td>\n",
       "      <td>Active</td>\n",
       "    </tr>\n",
       "    <tr>\n",
       "      <th>3</th>\n",
       "      <td>8010</td>\n",
       "      <td>G.R.S.A. Bandara</td>\n",
       "      <td>Head of Non Motor Claims</td>\n",
       "      <td>Non-Motor Claims Dpt.</td>\n",
       "      <td>2009-12-15</td>\n",
       "      <td>1975-05-26</td>\n",
       "      <td>NaT</td>\n",
       "      <td>NaN</td>\n",
       "      <td>Active</td>\n",
       "    </tr>\n",
       "    <tr>\n",
       "      <th>4</th>\n",
       "      <td>8019</td>\n",
       "      <td>B.G.D.N.K. Basnayke</td>\n",
       "      <td>Assistant Manager - Finance</td>\n",
       "      <td>Finance Dpt.</td>\n",
       "      <td>2010-03-08</td>\n",
       "      <td>1982-03-04</td>\n",
       "      <td>NaT</td>\n",
       "      <td>NaN</td>\n",
       "      <td>Active</td>\n",
       "    </tr>\n",
       "  </tbody>\n",
       "</table>\n",
       "</div>"
      ],
      "text/plain": [
       "   EMP_No          Employee_Name  \\\n",
       "0     8002        J. Kariyawasam   \n",
       "1     8004  D.M.H.D. Dissanayaka   \n",
       "2     8009      S.M. Digamadulla   \n",
       "3     8010      G.R.S.A. Bandara   \n",
       "4     8019   B.G.D.N.K. Basnayke   \n",
       "\n",
       "                                        Designation                    Dpt  \\\n",
       "0                           Chief Executive Officer             CEOs Dept.   \n",
       "1                              Head of Motor Claims      Motor Claims Dpt.   \n",
       "2  Manager Contact Center and Customer Relationship         Contact Centre   \n",
       "3                          Head of Non Motor Claims  Non-Motor Claims Dpt.   \n",
       "4                       Assistant Manager - Finance           Finance Dpt.   \n",
       "\n",
       "  Joined_Date Date_of_Birth Date_Resigned Reason_for_leaving Active_Resigned  \n",
       "0  2009-10-01    1969-07-04           NaT                NaN          Active  \n",
       "1  2009-10-01    1982-06-24           NaT                NaN          Active  \n",
       "2  2009-12-02    1984-03-16           NaT                NaN          Active  \n",
       "3  2009-12-15    1975-05-26           NaT                NaN          Active  \n",
       "4  2010-03-08    1982-03-04           NaT                NaN          Active  "
      ]
     },
     "execution_count": 167,
     "metadata": {},
     "output_type": "execute_result"
    }
   ],
   "source": [
    "staff_df.head()"
   ]
  },
  {
   "cell_type": "code",
   "execution_count": 168,
   "id": "b254de05",
   "metadata": {},
   "outputs": [
    {
     "data": {
      "text/html": [
       "<div>\n",
       "<style scoped>\n",
       "    .dataframe tbody tr th:only-of-type {\n",
       "        vertical-align: middle;\n",
       "    }\n",
       "\n",
       "    .dataframe tbody tr th {\n",
       "        vertical-align: top;\n",
       "    }\n",
       "\n",
       "    .dataframe thead th {\n",
       "        text-align: right;\n",
       "    }\n",
       "</style>\n",
       "<table border=\"1\" class=\"dataframe\">\n",
       "  <thead>\n",
       "    <tr style=\"text-align: right;\">\n",
       "      <th></th>\n",
       "      <th>EMP_No</th>\n",
       "      <th>Employee_Name</th>\n",
       "      <th>Designation</th>\n",
       "      <th>Dpt</th>\n",
       "      <th>Joined_Date</th>\n",
       "      <th>Date_of_Birth</th>\n",
       "      <th>Date_Resigned</th>\n",
       "      <th>Reason_for_leaving</th>\n",
       "      <th>Active_Resigned</th>\n",
       "    </tr>\n",
       "  </thead>\n",
       "  <tbody>\n",
       "    <tr>\n",
       "      <th>609</th>\n",
       "      <td>8430</td>\n",
       "      <td>P.M.D.Maduranga</td>\n",
       "      <td>Staff Assistant - Grade lll</td>\n",
       "      <td>Akuressa Br.</td>\n",
       "      <td>2015-09-15</td>\n",
       "      <td>NaT</td>\n",
       "      <td>2017-05-08</td>\n",
       "      <td>NaN</td>\n",
       "      <td>Resigned</td>\n",
       "    </tr>\n",
       "    <tr>\n",
       "      <th>610</th>\n",
       "      <td>8157</td>\n",
       "      <td>K.K.A.Perera</td>\n",
       "      <td>Office Assistant - Gr.II</td>\n",
       "      <td>Motor Underwriting Dpt.</td>\n",
       "      <td>2012-06-01</td>\n",
       "      <td>NaT</td>\n",
       "      <td>2017-05-31</td>\n",
       "      <td>Retirement</td>\n",
       "      <td>Resigned</td>\n",
       "    </tr>\n",
       "    <tr>\n",
       "      <th>611</th>\n",
       "      <td>8532</td>\n",
       "      <td>P.L.B.Upeksha</td>\n",
       "      <td>Staff Assistant - Grade lll</td>\n",
       "      <td>PML H/O</td>\n",
       "      <td>2016-11-01</td>\n",
       "      <td>NaT</td>\n",
       "      <td>2017-11-24</td>\n",
       "      <td>NaN</td>\n",
       "      <td>Resigned</td>\n",
       "    </tr>\n",
       "    <tr>\n",
       "      <th>612</th>\n",
       "      <td>8575</td>\n",
       "      <td>M.C.S.Perera</td>\n",
       "      <td>Staff Assistant - Grade lll</td>\n",
       "      <td>Maharagama Br.</td>\n",
       "      <td>2017-05-02</td>\n",
       "      <td>NaT</td>\n",
       "      <td>2017-11-28</td>\n",
       "      <td>NaN</td>\n",
       "      <td>Resigned</td>\n",
       "    </tr>\n",
       "    <tr>\n",
       "      <th>613</th>\n",
       "      <td>8559</td>\n",
       "      <td>N.K.N.Nawarathna</td>\n",
       "      <td>Staff Assistant - Grade lll</td>\n",
       "      <td>Thambuttegama Br.</td>\n",
       "      <td>2017-03-01</td>\n",
       "      <td>NaT</td>\n",
       "      <td>2017-12-31</td>\n",
       "      <td>NaN</td>\n",
       "      <td>Resigned</td>\n",
       "    </tr>\n",
       "  </tbody>\n",
       "</table>\n",
       "</div>"
      ],
      "text/plain": [
       "     EMP_No      Employee_Name                  Designation  \\\n",
       "609     8430   P.M.D.Maduranga  Staff Assistant - Grade lll   \n",
       "610     8157      K.K.A.Perera     Office Assistant - Gr.II   \n",
       "611     8532     P.L.B.Upeksha  Staff Assistant - Grade lll   \n",
       "612     8575      M.C.S.Perera  Staff Assistant - Grade lll   \n",
       "613     8559  N.K.N.Nawarathna  Staff Assistant - Grade lll   \n",
       "\n",
       "                         Dpt Joined_Date Date_of_Birth Date_Resigned  \\\n",
       "609             Akuressa Br.  2015-09-15           NaT    2017-05-08   \n",
       "610  Motor Underwriting Dpt.  2012-06-01           NaT    2017-05-31   \n",
       "611                  PML H/O  2016-11-01           NaT    2017-11-24   \n",
       "612           Maharagama Br.  2017-05-02           NaT    2017-11-28   \n",
       "613        Thambuttegama Br.  2017-03-01           NaT    2017-12-31   \n",
       "\n",
       "    Reason_for_leaving Active_Resigned  \n",
       "609                NaN        Resigned  \n",
       "610         Retirement        Resigned  \n",
       "611                NaN        Resigned  \n",
       "612                NaN        Resigned  \n",
       "613                NaN        Resigned  "
      ]
     },
     "execution_count": 168,
     "metadata": {},
     "output_type": "execute_result"
    }
   ],
   "source": [
    "# Get the resigned list\n",
    "\n",
    "resigned_df = pd.DataFrame()\n",
    "\n",
    "resigned_df = staff_df.query(\"Active_Resigned == 'Resigned'\")\n",
    "resigned_df.head()"
   ]
  },
  {
   "cell_type": "code",
   "execution_count": 169,
   "id": "eadbdae6",
   "metadata": {},
   "outputs": [
    {
     "name": "stderr",
     "output_type": "stream",
     "text": [
      "C:\\Users\\Indika\\AppData\\Local\\Temp\\ipykernel_57748\\3130017107.py:5: SettingWithCopyWarning: \n",
      "A value is trying to be set on a copy of a slice from a DataFrame.\n",
      "Try using .loc[row_indexer,col_indexer] = value instead\n",
      "\n",
      "See the caveats in the documentation: https://pandas.pydata.org/pandas-docs/stable/user_guide/indexing.html#returning-a-view-versus-a-copy\n",
      "  resigned_df['Resigned_Year'] = resigned_df['Date_Resigned'].dt.year\n",
      "C:\\Users\\Indika\\AppData\\Local\\Temp\\ipykernel_57748\\3130017107.py:6: SettingWithCopyWarning: \n",
      "A value is trying to be set on a copy of a slice from a DataFrame.\n",
      "Try using .loc[row_indexer,col_indexer] = value instead\n",
      "\n",
      "See the caveats in the documentation: https://pandas.pydata.org/pandas-docs/stable/user_guide/indexing.html#returning-a-view-versus-a-copy\n",
      "  resigned_df['Resigned_Month'] = resigned_df['Date_Resigned'].dt.month\n"
     ]
    },
    {
     "data": {
      "text/html": [
       "<div>\n",
       "<style scoped>\n",
       "    .dataframe tbody tr th:only-of-type {\n",
       "        vertical-align: middle;\n",
       "    }\n",
       "\n",
       "    .dataframe tbody tr th {\n",
       "        vertical-align: top;\n",
       "    }\n",
       "\n",
       "    .dataframe thead th {\n",
       "        text-align: right;\n",
       "    }\n",
       "</style>\n",
       "<table border=\"1\" class=\"dataframe\">\n",
       "  <thead>\n",
       "    <tr style=\"text-align: right;\">\n",
       "      <th></th>\n",
       "      <th>EMP_No</th>\n",
       "      <th>Employee_Name</th>\n",
       "      <th>Designation</th>\n",
       "      <th>Dpt</th>\n",
       "      <th>Joined_Date</th>\n",
       "      <th>Date_of_Birth</th>\n",
       "      <th>Date_Resigned</th>\n",
       "      <th>Reason_for_leaving</th>\n",
       "      <th>Active_Resigned</th>\n",
       "      <th>Resigned_Year</th>\n",
       "      <th>Resigned_Month</th>\n",
       "    </tr>\n",
       "  </thead>\n",
       "  <tbody>\n",
       "    <tr>\n",
       "      <th>609</th>\n",
       "      <td>8430</td>\n",
       "      <td>P.M.D.Maduranga</td>\n",
       "      <td>Staff Assistant - Grade lll</td>\n",
       "      <td>Akuressa Br.</td>\n",
       "      <td>2015-09-15</td>\n",
       "      <td>NaT</td>\n",
       "      <td>2017-05-08</td>\n",
       "      <td>NaN</td>\n",
       "      <td>Resigned</td>\n",
       "      <td>2017</td>\n",
       "      <td>5</td>\n",
       "    </tr>\n",
       "    <tr>\n",
       "      <th>610</th>\n",
       "      <td>8157</td>\n",
       "      <td>K.K.A.Perera</td>\n",
       "      <td>Office Assistant - Gr.II</td>\n",
       "      <td>Motor Underwriting Dpt.</td>\n",
       "      <td>2012-06-01</td>\n",
       "      <td>NaT</td>\n",
       "      <td>2017-05-31</td>\n",
       "      <td>Retirement</td>\n",
       "      <td>Resigned</td>\n",
       "      <td>2017</td>\n",
       "      <td>5</td>\n",
       "    </tr>\n",
       "    <tr>\n",
       "      <th>611</th>\n",
       "      <td>8532</td>\n",
       "      <td>P.L.B.Upeksha</td>\n",
       "      <td>Staff Assistant - Grade lll</td>\n",
       "      <td>PML H/O</td>\n",
       "      <td>2016-11-01</td>\n",
       "      <td>NaT</td>\n",
       "      <td>2017-11-24</td>\n",
       "      <td>NaN</td>\n",
       "      <td>Resigned</td>\n",
       "      <td>2017</td>\n",
       "      <td>11</td>\n",
       "    </tr>\n",
       "    <tr>\n",
       "      <th>612</th>\n",
       "      <td>8575</td>\n",
       "      <td>M.C.S.Perera</td>\n",
       "      <td>Staff Assistant - Grade lll</td>\n",
       "      <td>Maharagama Br.</td>\n",
       "      <td>2017-05-02</td>\n",
       "      <td>NaT</td>\n",
       "      <td>2017-11-28</td>\n",
       "      <td>NaN</td>\n",
       "      <td>Resigned</td>\n",
       "      <td>2017</td>\n",
       "      <td>11</td>\n",
       "    </tr>\n",
       "    <tr>\n",
       "      <th>613</th>\n",
       "      <td>8559</td>\n",
       "      <td>N.K.N.Nawarathna</td>\n",
       "      <td>Staff Assistant - Grade lll</td>\n",
       "      <td>Thambuttegama Br.</td>\n",
       "      <td>2017-03-01</td>\n",
       "      <td>NaT</td>\n",
       "      <td>2017-12-31</td>\n",
       "      <td>NaN</td>\n",
       "      <td>Resigned</td>\n",
       "      <td>2017</td>\n",
       "      <td>12</td>\n",
       "    </tr>\n",
       "  </tbody>\n",
       "</table>\n",
       "</div>"
      ],
      "text/plain": [
       "     EMP_No      Employee_Name                  Designation  \\\n",
       "609     8430   P.M.D.Maduranga  Staff Assistant - Grade lll   \n",
       "610     8157      K.K.A.Perera     Office Assistant - Gr.II   \n",
       "611     8532     P.L.B.Upeksha  Staff Assistant - Grade lll   \n",
       "612     8575      M.C.S.Perera  Staff Assistant - Grade lll   \n",
       "613     8559  N.K.N.Nawarathna  Staff Assistant - Grade lll   \n",
       "\n",
       "                         Dpt Joined_Date Date_of_Birth Date_Resigned  \\\n",
       "609             Akuressa Br.  2015-09-15           NaT    2017-05-08   \n",
       "610  Motor Underwriting Dpt.  2012-06-01           NaT    2017-05-31   \n",
       "611                  PML H/O  2016-11-01           NaT    2017-11-24   \n",
       "612           Maharagama Br.  2017-05-02           NaT    2017-11-28   \n",
       "613        Thambuttegama Br.  2017-03-01           NaT    2017-12-31   \n",
       "\n",
       "    Reason_for_leaving Active_Resigned  Resigned_Year  Resigned_Month  \n",
       "609                NaN        Resigned           2017               5  \n",
       "610         Retirement        Resigned           2017               5  \n",
       "611                NaN        Resigned           2017              11  \n",
       "612                NaN        Resigned           2017              11  \n",
       "613                NaN        Resigned           2017              12  "
      ]
     },
     "execution_count": 169,
     "metadata": {},
     "output_type": "execute_result"
    }
   ],
   "source": [
    "# Add a new field for resigned year and month\n",
    "\n",
    "# resigned_df[\"Resigned_Year\"] = resigned_df['Date_Resigned'].dt.strftime('%Y') -- This also can be used to get the year\n",
    "\n",
    "resigned_df['Resigned_Year'] = resigned_df['Date_Resigned'].dt.year\n",
    "resigned_df['Resigned_Month'] = resigned_df['Date_Resigned'].dt.month\n",
    "\n",
    "resigned_df.head()"
   ]
  },
  {
   "cell_type": "code",
   "execution_count": 170,
   "id": "b2e5348f",
   "metadata": {},
   "outputs": [
    {
     "data": {
      "text/plain": [
       "Resigned_Year  Resigned_Month\n",
       "2017           5                 2\n",
       "               11                2\n",
       "               12                1\n",
       "2018           1                 8\n",
       "               2                 3\n",
       "dtype: int64"
      ]
     },
     "execution_count": 170,
     "metadata": {},
     "output_type": "execute_result"
    }
   ],
   "source": [
    "# Get count month wise\n",
    "# pd.set_option('display.max_rows', None)\n",
    "\n",
    "resigned_monthwise_df = pd.DataFrame()\n",
    "\n",
    "resigned_monthwise_df = resigned_df.groupby(['Resigned_Year', 'Resigned_Month']).size()\n",
    "resigned_monthwise_df.head()"
   ]
  },
  {
   "cell_type": "code",
   "execution_count": 171,
   "id": "bc5edeec",
   "metadata": {},
   "outputs": [
    {
     "data": {
      "text/plain": [
       "<AxesSubplot:xlabel='Resigned_Year,Resigned_Month'>"
      ]
     },
     "execution_count": 171,
     "metadata": {},
     "output_type": "execute_result"
    },
    {
     "data": {
      "image/png": "[encoded data removed]",
      "text/plain": [
       "<Figure size 640x480 with 1 Axes>"
      ]
     },
     "metadata": {},
     "output_type": "display_data"
    }
   ],
   "source": [
    "# Month wise bar chart\n",
    "\n",
    "resigned_monthwise_df.plot.bar()"
   ]
  },
  {
   "cell_type": "code",
   "execution_count": 172,
   "id": "18def16e",
   "metadata": {},
   "outputs": [
    {
     "data": {
      "text/plain": [
       "Resigned_Year\n",
       "2017      5\n",
       "2018    121\n",
       "2019    141\n",
       "2020     98\n",
       "2021    122\n",
       "2022    187\n",
       "2023     33\n",
       "dtype: int64"
      ]
     },
     "execution_count": 172,
     "metadata": {},
     "output_type": "execute_result"
    }
   ],
   "source": [
    "# Yearly summary of resignations\n",
    "\n",
    "resigned_yearwise_df = pd.DataFrame()\n",
    "\n",
    "resigned_yearwise_df = resigned_df.groupby(['Resigned_Year']).size()\n",
    "resigned_yearwise_df"
   ]
  },
  {
   "cell_type": "code",
   "execution_count": 173,
   "id": "b7a03e21",
   "metadata": {},
   "outputs": [
    {
     "data": {
      "text/plain": [
       "<AxesSubplot:xlabel='Resigned_Year'>"
      ]
     },
     "execution_count": 173,
     "metadata": {},
     "output_type": "execute_result"
    },
    {
     "data": {
      "image/png": "[encoded data removed]",
      "text/plain": [
       "<Figure size 640x480 with 1 Axes>"
      ]
     },
     "metadata": {},
     "output_type": "display_data"
    }
   ],
   "source": [
    "# Yearly summary bar chart\n",
    "\n",
    "resigned_yearwise_df.plot.bar()"
   ]
  },
  {
   "cell_type": "code",
   "execution_count": 174,
   "id": "5812a534",
   "metadata": {},
   "outputs": [
    {
     "data": {
      "text/plain": [
       "101.0"
      ]
     },
     "execution_count": 174,
     "metadata": {},
     "output_type": "execute_result"
    }
   ],
   "source": [
    "# Yearly average\n",
    "\n",
    "resigned_yearwise_df.mean()"
   ]
  },
  {
   "cell_type": "code",
   "execution_count": 175,
   "id": "c333ee6d",
   "metadata": {},
   "outputs": [
    {
     "data": {
      "text/html": [
       "<div>\n",
       "<style scoped>\n",
       "    .dataframe tbody tr th:only-of-type {\n",
       "        vertical-align: middle;\n",
       "    }\n",
       "\n",
       "    .dataframe tbody tr th {\n",
       "        vertical-align: top;\n",
       "    }\n",
       "\n",
       "    .dataframe thead th {\n",
       "        text-align: right;\n",
       "    }\n",
       "</style>\n",
       "<table border=\"1\" class=\"dataframe\">\n",
       "  <thead>\n",
       "    <tr style=\"text-align: right;\">\n",
       "      <th></th>\n",
       "      <th>Count</th>\n",
       "    </tr>\n",
       "    <tr>\n",
       "      <th>Dpt</th>\n",
       "      <th></th>\n",
       "    </tr>\n",
       "  </thead>\n",
       "  <tbody>\n",
       "    <tr>\n",
       "      <th>Administration Dept.</th>\n",
       "      <td>12</td>\n",
       "    </tr>\n",
       "    <tr>\n",
       "      <th>Akuressa Br.</th>\n",
       "      <td>2</td>\n",
       "    </tr>\n",
       "    <tr>\n",
       "      <th>Ambalangoda Br.</th>\n",
       "      <td>2</td>\n",
       "    </tr>\n",
       "    <tr>\n",
       "      <th>Ambalanthota Regional</th>\n",
       "      <td>1</td>\n",
       "    </tr>\n",
       "    <tr>\n",
       "      <th>Ambalanthota Regional Branch</th>\n",
       "      <td>4</td>\n",
       "    </tr>\n",
       "    <tr>\n",
       "      <th>Ambalantota</th>\n",
       "      <td>1</td>\n",
       "    </tr>\n",
       "    <tr>\n",
       "      <th>Ampara Regional Br.</th>\n",
       "      <td>3</td>\n",
       "    </tr>\n",
       "    <tr>\n",
       "      <th>Anamaduwa Br</th>\n",
       "      <td>3</td>\n",
       "    </tr>\n",
       "    <tr>\n",
       "      <th>Anamaduwa Regional Br</th>\n",
       "      <td>1</td>\n",
       "    </tr>\n",
       "    <tr>\n",
       "      <th>Anuradhapura</th>\n",
       "      <td>1</td>\n",
       "    </tr>\n",
       "  </tbody>\n",
       "</table>\n",
       "</div>"
      ],
      "text/plain": [
       "                              Count\n",
       "Dpt                                \n",
       "Administration Dept.             12\n",
       "Akuressa Br.                      2\n",
       "Ambalangoda Br.                   2\n",
       "Ambalanthota Regional             1\n",
       "Ambalanthota Regional Branch      4\n",
       "Ambalantota                       1\n",
       "Ampara Regional Br.               3\n",
       "Anamaduwa Br                      3\n",
       "Anamaduwa Regional Br             1\n",
       "Anuradhapura                      1"
      ]
     },
     "execution_count": 175,
     "metadata": {},
     "output_type": "execute_result"
    }
   ],
   "source": [
    "# Summarize department wise\n",
    "resigned_deptwise_df = pd.DataFrame()\n",
    "resigned_deptwise_df = resigned_df.groupby(['Dpt']).size().reset_index(name='Count')\n",
    "\n",
    "# Set the Department Name as index\n",
    "resigned_deptwise_df = resigned_deptwise_df.set_index('Dpt')\n",
    "resigned_deptwise_df.head(10)"
   ]
  },
  {
   "cell_type": "code",
   "execution_count": 176,
   "id": "53619fb0",
   "metadata": {},
   "outputs": [
    {
     "data": {
      "text/html": [
       "<div>\n",
       "<style scoped>\n",
       "    .dataframe tbody tr th:only-of-type {\n",
       "        vertical-align: middle;\n",
       "    }\n",
       "\n",
       "    .dataframe tbody tr th {\n",
       "        vertical-align: top;\n",
       "    }\n",
       "\n",
       "    .dataframe thead th {\n",
       "        text-align: right;\n",
       "    }\n",
       "</style>\n",
       "<table border=\"1\" class=\"dataframe\">\n",
       "  <thead>\n",
       "    <tr style=\"text-align: right;\">\n",
       "      <th></th>\n",
       "      <th>Count</th>\n",
       "    </tr>\n",
       "    <tr>\n",
       "      <th>Dpt</th>\n",
       "      <th></th>\n",
       "    </tr>\n",
       "  </thead>\n",
       "  <tbody>\n",
       "    <tr>\n",
       "      <th>Contact Centre</th>\n",
       "      <td>63</td>\n",
       "    </tr>\n",
       "    <tr>\n",
       "      <th>Motor Claims Dpt.</th>\n",
       "      <td>53</td>\n",
       "    </tr>\n",
       "    <tr>\n",
       "      <th>Motor Underwriting Dpt.</th>\n",
       "      <td>28</td>\n",
       "    </tr>\n",
       "    <tr>\n",
       "      <th>Bancassurance Unit. Marketing</th>\n",
       "      <td>26</td>\n",
       "    </tr>\n",
       "    <tr>\n",
       "      <th>Fire &amp; Miscellaneous Dpt.</th>\n",
       "      <td>25</td>\n",
       "    </tr>\n",
       "    <tr>\n",
       "      <th>Galle Regional Br.</th>\n",
       "      <td>17</td>\n",
       "    </tr>\n",
       "    <tr>\n",
       "      <th>Finance Dpt.</th>\n",
       "      <td>17</td>\n",
       "    </tr>\n",
       "    <tr>\n",
       "      <th>MCIC Operation</th>\n",
       "      <td>17</td>\n",
       "    </tr>\n",
       "    <tr>\n",
       "      <th>Kurunagala Regional Br.</th>\n",
       "      <td>16</td>\n",
       "    </tr>\n",
       "    <tr>\n",
       "      <th>Anuradhapura Regional Br</th>\n",
       "      <td>15</td>\n",
       "    </tr>\n",
       "  </tbody>\n",
       "</table>\n",
       "</div>"
      ],
      "text/plain": [
       "                               Count\n",
       "Dpt                                 \n",
       "Contact Centre                    63\n",
       "Motor Claims Dpt.                 53\n",
       "Motor Underwriting Dpt.           28\n",
       "Bancassurance Unit. Marketing     26\n",
       "Fire & Miscellaneous Dpt.         25\n",
       "Galle Regional Br.                17\n",
       "Finance Dpt.                      17\n",
       "MCIC Operation                    17\n",
       "Kurunagala Regional Br.           16\n",
       "Anuradhapura Regional Br          15"
      ]
     },
     "execution_count": 176,
     "metadata": {},
     "output_type": "execute_result"
    }
   ],
   "source": [
    "# Sort by descending\n",
    "resigned_deptwise_df.sort_values('Count', ascending= False, inplace=True)\n",
    "resigned_deptwise_df.head(10)"
   ]
  },
  {
   "cell_type": "code",
   "execution_count": 177,
   "id": "9b19224d",
   "metadata": {},
   "outputs": [
    {
     "data": {
      "image/png": "[encoded data removed]",
      "text/plain": [
       "<Figure size 1000x1000 with 1 Axes>"
      ]
     },
     "metadata": {},
     "output_type": "display_data"
    }
   ],
   "source": [
    "plot = resigned_deptwise_df.head(10).plot(kind='pie', y='Count', autopct='%1.0f%%', figsize=(10, 10), legend=True, title='Department Wise Resignations', ylabel='', labeldistance=None)   \n"
   ]
  },
  {
   "cell_type": "code",
   "execution_count": null,
   "id": "f60e721b",
   "metadata": {},
   "outputs": [],
   "source": []
  }
 ],
 "metadata": {
  "kernelspec": {
   "display_name": "Python 3 (ipykernel)",
   "language": "python",
   "name": "python3"
  },
  "language_info": {
   "codemirror_mode": {
    "name": "ipython",
    "version": 3
   },
   "file_extension": ".py",
   "mimetype": "text/x-python",
   "name": "python",
   "nbconvert_exporter": "python",
   "pygments_lexer": "ipython3",
   "version": "3.9.13"
  }
 },
 "nbformat": 4,
 "nbformat_minor": 5
}
